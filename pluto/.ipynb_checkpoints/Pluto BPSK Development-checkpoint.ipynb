{
 "cells": [
  {
   "cell_type": "code",
   "execution_count": 21,
   "id": "87e890b6",
   "metadata": {},
   "outputs": [],
   "source": [
    "import numpy as np\n",
    "import matplotlib.pyplot as plt\n",
    "from scipy import signal\n",
    "from scipy.constants import k\n",
    "import sdr_utils as sutil\n",
    "import adi\n",
    "from matplotlib.widgets import Slider, Button\n",
    "\n",
    "from ipywidgets import interact, interactive, fixed, interact_manual\n",
    "import ipywidgets as widgets"
   ]
  },
  {
   "cell_type": "code",
   "execution_count": 22,
   "id": "304622a0",
   "metadata": {},
   "outputs": [],
   "source": [
    "## SDR Setup\n",
    "sample_rate = 1e6 # Hz\n",
    "center_freq = 915e6 # Hz\n",
    "num_samps = 100000 # number of samples per call to rx()\n",
    "\n",
    "sdr = adi.Pluto(\"ip:192.168.2.1\")\n",
    "sdr.sample_rate = int(sample_rate)\n",
    "\n",
    "# Config Tx\n",
    "sdr.tx_rf_bandwidth = int(sample_rate) # filter cutoff, just set it to the same as sample rate\n",
    "sdr.tx_lo = int(center_freq)\n",
    "sdr.tx_hardwaregain_chan0 = -50 # Increase to increase tx power, valid range is -90 to 0 dB\n",
    "\n",
    "# Config Rx\n",
    "sdr.rx_lo = int(center_freq)\n",
    "sdr.rx_rf_bandwidth = int(sample_rate)\n",
    "sdr.rx_buffer_size = num_samps\n",
    "sdr.gain_control_mode_chan0 = 'manual'\n",
    "sdr.rx_hardwaregain_chan0 = 0.0 # dB, increase to increase the receive gain, but be careful not to saturate the ADC\n"
   ]
  },
  {
   "cell_type": "code",
   "execution_count": 23,
   "id": "17529514",
   "metadata": {},
   "outputs": [
    {
     "name": "stdout",
     "output_type": "stream",
     "text": [
      "Binary message being sent: [1. 1. 1. 0. 0. 0. 1. 0. 0. 1. 0. 1. 0. 0. 1. 0. 0. 0. 1. 1. 0. 0. 1. 0.\n",
      " 1. 1. 1. 0. 1. 1. 0. 0. 1. 1. 0. 1. 1. 0. 0. 1. 1. 0. 1. 1. 1. 1. 1. 0.\n",
      " 0. 0. 0. 0. 1. 0. 1. 0. 1. 1. 1. 1. 1. 0. 1. 1. 1. 1. 1. 1. 1. 0. 0. 1.\n",
      " 0. 1. 1. 0. 1. 1. 0. 0. 1. 1. 0. 0. 1. 0. 0.]\n",
      "sample length 12736\n"
     ]
    }
   ],
   "source": [
    "## Using quick utilities:\n",
    "bin_msg = np.array(sutil.binaryify(\"Hello World\"))\n",
    "barker_code = np.array([1,1,1,0,0,0,1,0,0,1,0]) # binary barker code\n",
    "bin_msg = np.concatenate([barker_code, bin_msg])\n",
    "print(f\"Binary message being sent: {bin_msg}\")\n",
    "barker_train = sutil.pulse_train(barker_code)\n",
    "train = sutil.pulse_train(bin_msg)\n",
    "shaped = sutil.raised_cos_filter(train, β = 0.35)\n",
    "\n",
    "I = shaped\n",
    "Q = np.zeros(len(shaped))\n",
    "IQ_send = I + 1j*Q\n",
    "\n",
    "samples = np.repeat(IQ_send, 16) # 16 samples per symbol (rectangular pulses)\n",
    "samples *= 2**14 # The PlutoSDR expects samples to be between -2^14 and +2^14, not -1 and +1 like some SDRs\n",
    "print(f\"sample length {len(samples)}\")"
   ]
  },
  {
   "cell_type": "code",
   "execution_count": 24,
   "id": "f7ed9ec1",
   "metadata": {},
   "outputs": [
    {
     "name": "stdout",
     "output_type": "stream",
     "text": [
      "rx sample size raw: 100000\n"
     ]
    }
   ],
   "source": [
    "# Start the transmitter\n",
    "sdr.tx_cyclic_buffer = True # Enable cyclic buffers\n",
    "sdr.tx(samples) # start transmitting\n",
    "\n",
    "# Clear buffer just to be safe\n",
    "for i in range (0, 10):\n",
    "    raw_data = sdr.rx()\n",
    "\n",
    "# Receive samples\n",
    "rx_samples = sdr.rx()\n",
    "print(f\"rx sample size raw: {len(rx_samples)}\")\n",
    "# Stop transmitting\n",
    "sdr.tx_destroy_buffer()"
   ]
  },
  {
   "cell_type": "code",
   "execution_count": 27,
   "id": "ba28bd6e",
   "metadata": {},
   "outputs": [
    {
     "name": "stdout",
     "output_type": "stream",
     "text": [
      "rx sample size: 100200\n"
     ]
    },
    {
     "data": {
      "image/png": "[encoded data removed]",
      "text/plain": [
       "<Figure size 432x288 with 1 Axes>"
      ]
     },
     "metadata": {
      "needs_background": "light"
     },
     "output_type": "display_data"
    },
    {
     "data": {
      "image/png": "[encoded data removed]",
      "text/plain": [
       "<Figure size 432x288 with 1 Axes>"
      ]
     },
     "metadata": {
      "needs_background": "light"
     },
     "output_type": "display_data"
    }
   ],
   "source": [
    "# plt.plot(np.real(IQ_send), '.-', zorder = 1)\n",
    "# plt.plot(np.imag(IQ_send), '.-', zorder = 2)\n",
    "# plt.legend([\"I\", \"Q\"])\n",
    "# plt.title(\"Original Hello World Signal\")\n",
    "# plt.show()\n",
    "\n",
    "# filter rx with root raised:\n",
    "rx_samples = sutil.raised_cos_filter(rx_samples)\n",
    "\n",
    "### Clock recovery -- important for good data later\n",
    "rx_samples_cr = sutil.clock_recovery(np.copy(rx_samples))\n",
    " \n",
    "# rx_samples = sutil.phase_detector_2(rx_samples)\n",
    "\n",
    "print(f\"rx sample size: {len(rx_samples)}\")\n",
    "\n",
    "# np.set_printoptions(threshold=np.inf)\n",
    "\n",
    "# bin_rx = np.array(sutil.simple_ecode_recv(rx_samples))\n",
    "# contains_bin = np.isin(bin_msg, bin_rx)\n",
    "# print(f\"Message contains binary string: {contains_bin}\")\n",
    "# print(f\"binary message: {bin_msg}\")\n",
    "# print(f\"binary receive: {bin_rx[-1*len(bin_msg):]}\")\n",
    "# bin_conv = np.convolve(bin_rx, bin_msg)\n",
    "# plt.plot(bin_rx)\n",
    "# plt.show()\n",
    "\n",
    "\n",
    "\n",
    "tc = np.arange(0,2*np.pi,1e-2)\n",
    "plt.plot(np.cos(tc), np.sin(tc), linewidth=1, color=\"grey\")\n",
    "plt.plot(np.real(rx_samples), np.imag(rx_samples), '.', color=\"red\")\n",
    "plt.title(\"IQ Plot of BPSK Message Raw\")\n",
    "plt.grid(True)\n",
    "plt.show()\n",
    "\n",
    "plt.plot(np.cos(tc), np.sin(tc), linewidth=1, color=\"grey\")\n",
    "plt.plot(np.real(rx_samples_cr), np.imag(rx_samples_cr), '.', color=\"red\")\n",
    "plt.title(\"IQ Plot of BPSK Message with Clock Recovery\")\n",
    "plt.grid(True)\n",
    "plt.show()"
   ]
  },
  {
   "cell_type": "code",
   "execution_count": null,
   "id": "2794c5e2",
   "metadata": {},
   "outputs": [],
   "source": []
  },
  {
   "cell_type": "code",
   "execution_count": 30,
   "id": "74bd63e9",
   "metadata": {},
   "outputs": [
    {
     "data": {
      "application/vnd.jupyter.widget-view+json": {
       "model_id": "65c609175918461d8b1bb1a342d150b7",
       "version_major": 2,
       "version_minor": 0
      },
      "text/plain": [
       "interactive(children=(FloatSlider(value=0.0, description='Δf', max=10.0, min=-10.0, step=0.01), Output()), _do…"
      ]
     },
     "metadata": {},
     "output_type": "display_data"
    }
   ],
   "source": [
    "## This block of code allows the researcher to manually adjust a frequency\n",
    "## shift on the received data from the PlutoSDR\n",
    "\n",
    "IQ_no_shift = np.copy(rx_samples)\n",
    "def plot_fo(Δf):\n",
    "    global sample_rate, IQ_no_shift\n",
    "    fs = sample_rate # assume our sample rate is 1 MHz\n",
    "    fo = Δf #13000 # simulate freq offset\n",
    "    Ts = 1/fs # calc sample period\n",
    "    # Trying to add equal frequency offset to all samples\n",
    "    \n",
    "    t = np.arange(0, Ts*len(IQ_no_shift), Ts) # create time vector\n",
    "    t_comp = np.exp(1j*2*np.pi*Δf)#*t)\n",
    "    IQ_shift = np.copy(IQ_no_shift) * t_comp # perform freq shift\n",
    "    #IQ_shift = sutil.add_frequency_offset(IQ_no_shift, fs=fs, Δf=fo)\n",
    "    \n",
    "    plt.plot(np.real(IQ_shift), '.-', zorder = 1)\n",
    "    plt.plot(np.imag(IQ_shift), '.-', zorder = 2)\n",
    "    plt.legend([\"I\", \"Q\"])\n",
    "    plt.show()\n",
    "    \n",
    "    tc = np.arange(0,2*np.pi,1e-2)\n",
    "    plt.plot(np.cos(tc), np.sin(tc), linewidth=1, color=\"grey\")\n",
    "    plt.plot(np.real(IQ_shift), np.imag(IQ_shift), '.', color=\"red\")\n",
    "    plt.title(\"IQ Plot of Shifted Quadrature\")\n",
    "    plt.grid(True)\n",
    "#     plt.xlim([-1.2, 1.2])\n",
    "#     plt.ylim([-1.2, 1.2])\n",
    "    plt.show()\n",
    "    \n",
    "    plt.plot(np.cos(tc), np.sin(tc), linewidth=1, color=\"grey\")\n",
    "    plt.plot(np.real(t_comp), np.imag(t_comp), '.', color=\"red\")\n",
    "    plt.title(\"Shifting Plot\")\n",
    "    plt.grid(True)\n",
    "#     plt.xlim([-1.2, 1.2])\n",
    "#     plt.ylim([-1.2, 1.2])\n",
    "    plt.show()\n",
    "    print(f\"Length of vector: {len(IQ_shift)}\")\n",
    "interact(plot_fo, Δf = (-10, 10, 0.01)); # -0.22"
   ]
  },
  {
   "cell_type": "code",
   "execution_count": 37,
   "id": "6975b360",
   "metadata": {},
   "outputs": [
    {
     "name": "stdout",
     "output_type": "stream",
     "text": [
      "13364900.92992636\n",
      "10768864.148179471\n"
     ]
    },
    {
     "data": {
      "image/png": "[encoded data removed]",
      "text/plain": [
       "<Figure size 432x288 with 1 Axes>"
      ]
     },
     "metadata": {
      "needs_background": "light"
     },
     "output_type": "display_data"
    }
   ],
   "source": [
    "## sweep for minimizing Quadrature with frequncy shift\n",
    "def cost(IQ):\n",
    "    return np.sum(np.abs(np.imag(IQ)))\n",
    "def f_shift(IQ, Δf):\n",
    "    return np.copy(IQ) * np.exp(1j*2*np.pi*Δf) # perform freq shift\n",
    "print(cost(IQ_no_shift))\n",
    "print(cost(f_shift(IQ_no_shift, 0.05)))\n",
    "costs = []\n",
    "frequencies = np.arange(-100,100,0.01)\n",
    "for f in frequencies:\n",
    "    costs.append(cost(f_shift(IQ_no_shift,f)))\n",
    "    \n",
    "costs = np.array(costs)\n",
    "plt.plot(frequencies, costs)\n",
    "plt.show()"
   ]
  },
  {
   "cell_type": "code",
   "execution_count": 38,
   "id": "74076be6",
   "metadata": {},
   "outputs": [
    {
     "name": "stdout",
     "output_type": "stream",
     "text": [
      "1088870.2464696616\n"
     ]
    }
   ],
   "source": [
    "print(np.min(costs))"
   ]
  },
  {
   "cell_type": "code",
   "execution_count": 20,
   "id": "a807caa5",
   "metadata": {},
   "outputs": [
    {
     "data": {
      "application/vnd.jupyter.widget-view+json": {
       "model_id": "1e38775e6d764aeaa467de6629a5ed1e",
       "version_major": 2,
       "version_minor": 0
      },
      "text/plain": [
       "interactive(children=(FloatSlider(value=0.0, description='Δsample', max=1.0, min=-1.0, step=0.01), IntSlider(v…"
      ]
     },
     "metadata": {},
     "output_type": "display_data"
    }
   ],
   "source": [
    "def delay_plot(Δsample, N_taps):\n",
    "    global IQ_no_shift\n",
    "    delay = Δsample # fractional delay, in samples\n",
    "    N = N_taps #21 # number of taps\n",
    "    IQ_delay = sutil.add_delay(IQ_no_shift, Δsample=delay, N=N)\n",
    "\n",
    "#     plt.plot(m_shaped, zorder = 1)\n",
    "#     plt.plot(m_shaped_delay, zorder = 2)\n",
    "#     plt.legend([\"Original\", \"Delayed\"])\n",
    "#     plt.show()\n",
    "    tc = np.arange(0,2*np.pi,1e-2)\n",
    "    plt.plot(np.cos(tc), np.sin(tc), linewidth=1, color=\"grey\")\n",
    "    plt.plot(np.real(IQ_delay), np.imag(IQ_delay), '.', color=\"red\")\n",
    "    plt.title(\"IQ Plot of Delayed Quadrature\")\n",
    "    plt.grid(True)\n",
    "#     plt.xlim([-1.2, 1.2])\n",
    "#     plt.ylim([-1.2, 1.2])\n",
    "    plt.show()\n",
    "    \n",
    "interact(delay_plot, Δsample=(-1,1,0.01), N_taps=(1,100,1));"
   ]
  },
  {
   "cell_type": "code",
   "execution_count": 12,
   "id": "016146e2",
   "metadata": {},
   "outputs": [
    {
     "data": {
      "image/png": "[encoded data removed]",
      "text/plain": [
       "<Figure size 432x288 with 1 Axes>"
      ]
     },
     "metadata": {
      "needs_background": "light"
     },
     "output_type": "display_data"
    },
    {
     "data": {
      "image/png": "[encoded data removed]",
      "text/plain": [
       "<Figure size 432x288 with 1 Axes>"
      ]
     },
     "metadata": {
      "needs_background": "light"
     },
     "output_type": "display_data"
    }
   ],
   "source": [
    "t_comp = np.exp(1j*2*np.pi*-0.08) #*t) <-- removed time compensation component\n",
    "IQ_shift = np.copy(IQ_no_shift) * t_comp # perform freq shift\n",
    "\n",
    "sutil.plot_IQ(plt, IQ_shift, \"Shifted IQ\")\n",
    "\n",
    "IQ_shift_filtered = sutil.raised_cos_filter(IQ_shift)\n",
    "sutil.plot_IQ(plt, IQ_shift_filtered, \"Filtered IQ\")"
   ]
  },
  {
   "cell_type": "code",
   "execution_count": null,
   "id": "e0f55027",
   "metadata": {},
   "outputs": [],
   "source": []
  }
 ],
 "metadata": {
  "kernelspec": {
   "display_name": "Python 3",
   "language": "python",
   "name": "python3"
  },
  "language_info": {
   "codemirror_mode": {
    "name": "ipython",
    "version": 3
   },
   "file_extension": ".py",
   "mimetype": "text/x-python",
   "name": "python",
   "nbconvert_exporter": "python",
   "pygments_lexer": "ipython3",
   "version": "3.6.9"
  }
 },
 "nbformat": 4,
 "nbformat_minor": 5
}
